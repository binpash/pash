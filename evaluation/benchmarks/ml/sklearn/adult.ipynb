{
 "cells": [
  {
   "cell_type": "code",
   "execution_count": 23,
   "metadata": {},
   "outputs": [],
   "source": [
    "from sklearn.model_selection import train_test_split\n",
    "from sklearn.linear_model import LogisticRegression\n",
    "from sklearn import preprocessing\n",
    "import pickle\n",
    "import subprocess\n",
    "import pandas as pd\n",
    "\n",
    "le = preprocessing.LabelEncoder()\n",
    "ohe = preprocessing.OneHotEncoder()\n",
    "\n",
    "cols = ['age', 'workclass', 'fnlwgt', 'education', 'education_num', \n",
    "             'marital_status', 'occupation', 'relationship', 'race', 'sex', \n",
    "             'capital_gain', 'capital_loss', 'hours_per-week', \n",
    "             'native_country', 'label']\n",
    "\n",
    "categorical_cols = ['workclass', 'education', 'marital_status', 'occupation', \n",
    "            'relationship', 'race', 'sex', 'native_country']\n",
    "\n",
    "df = pd.read_csv('datasets/adult/adult.data', header=None)\n",
    "test_df = pd.read_csv('datasets/adult/adult.test', header=None)\n",
    "df = pd.concat([df, test_df], ignore_index=True)\n",
    "\n",
    "df.columns = cols\n",
    "df['label'] = le.fit_transform(df['label'])\n",
    "df = pd.get_dummies(df, columns=categorical_cols)\n",
    "X_train, X_test, y_train, y_test = train_test_split(df.loc[:, df.columns != 'label'], df['label'], test_size=0.2)"
   ]
  },
  {
   "cell_type": "code",
   "execution_count": 24,
   "metadata": {},
   "outputs": [
    {
     "data": {
      "text/plain": [
       "0.8000818916982291"
      ]
     },
     "execution_count": 24,
     "metadata": {},
     "output_type": "execute_result"
    }
   ],
   "source": [
    "model = LogisticRegression()\n",
    "model.fit(X_train, y_train)\n",
    "model.score(X_test, y_test)"
   ]
  },
  {
   "cell_type": "code",
   "execution_count": null,
   "metadata": {},
   "outputs": [],
   "source": [
    "subprocess.run([\"sh fit.sh result/adult_model.obj | ts '[%H:%M:%.S]'\"], shell=True)\n",
    "with open('result/trained_model.obj', 'rb') as file:\n",
    "    exp_model = pickle.load(file)\n",
    "exp_score = exp_model.score(X_test, y_test)"
   ]
  }
 ],
 "metadata": {
  "kernelspec": {
   "display_name": "pash",
   "language": "python",
   "name": "python3"
  },
  "language_info": {
   "codemirror_mode": {
    "name": "ipython",
    "version": 3
   },
   "file_extension": ".py",
   "mimetype": "text/x-python",
   "name": "python",
   "nbconvert_exporter": "python",
   "pygments_lexer": "ipython3",
   "version": "3.10.9"
  },
  "orig_nbformat": 4,
  "vscode": {
   "interpreter": {
    "hash": "481310881e105a97763b2849a6a8f554503a1fb1dc65dafbdc99d72c0c28d041"
   }
  }
 },
 "nbformat": 4,
 "nbformat_minor": 2
}
