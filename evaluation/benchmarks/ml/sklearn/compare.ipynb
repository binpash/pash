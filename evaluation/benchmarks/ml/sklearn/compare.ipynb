{
 "cells": [
  {
   "cell_type": "code",
   "execution_count": 1,
   "metadata": {},
   "outputs": [],
   "source": [
    "from sklearn.model_selection import train_test_split\n",
    "from sklearn import datasets\n",
    "from sklearn.linear_model import LogisticRegression\n",
    "import pickle\n",
    "import subprocess\n",
    "\n",
    "destination = 'result/trained_model.obj'\n",
    "data_source = 'cover'\n",
    "# data_source = 'digit'\n",
    "\n",
    "max_iter = 100\n",
    "\n",
    "if data_source == 'cover':\n",
    "    dataset = datasets.fetch_covtype()\n",
    "elif data_source == 'digit':\n",
    "    dataset = datasets.load_digits()\n",
    "else:\n",
    "    raise ValueError('data must be cover or digit')\n",
    "\n",
    "X_train, X_test, y_train, y_test = train_test_split(dataset.data, dataset.target, \n",
    "                                                    test_size=0.2, \n",
    "                                                    random_state=0)"
   ]
  },
  {
   "cell_type": "code",
   "execution_count": 2,
   "metadata": {},
   "outputs": [],
   "source": [
    "control_model = LogisticRegression(max_iter=max_iter, \n",
    "                                   solver='newton-cholesky', \n",
    "                                   multi_class='ovr')\n",
    "control_model.fit(X_train, y_train)\n",
    "control_score = control_model.score(X_test, y_test)"
   ]
  },
  {
   "cell_type": "code",
   "execution_count": 3,
   "metadata": {},
   "outputs": [
    {
     "name": "stdout",
     "output_type": "stream",
     "text": [
      "[18:05:44.856867] Destination: result/trained_model.obj\n",
      "[18:05:47.122161] Step 1 end\n",
      "[18:05:50.314007] Step 2 end\n",
      "[18:05:50.949281] rownorm\n",
      "[18:05:51.463231] reshape\n",
      "[18:05:51.943507] warm_start\n",
      "[18:05:52.428232] [1 2 3 4 5 6 7]\n",
      "[18:06:27.079689] fold_coef\n",
      "[18:06:27.608010] zip_coef\n",
      "[18:06:28.116929] adjust_coef\n",
      "[18:06:28.117040] Step 3 end\n"
     ]
    },
    {
     "name": "stderr",
     "output_type": "stream",
     "text": [
      "Traceback (most recent call last):\n",
      "  File \"/home/castlehoney/repos/research/pash/evaluation/benchmarks/ml/sklearn/scripts/adjust_coef.py\", line 20, in <module>\n",
      "    model.coef_ = model.coef_.reshape(\n",
      "TypeError: 'str' object cannot be interpreted as an integer\n"
     ]
    }
   ],
   "source": [
    "subprocess.run([f\"sh fit.sh {destination} {data_source} {max_iter} | ts '[%H:%M:%.S]'\"], shell=True)\n",
    "with open(destination, 'rb') as file:\n",
    "    exp_model = pickle.load(file)\n",
    "exp_score = exp_model.score(X_test, y_test)"
   ]
  },
  {
   "cell_type": "code",
   "execution_count": 4,
   "metadata": {},
   "outputs": [
    {
     "name": "stdout",
     "output_type": "stream",
     "text": [
      "control score: 0.7154290336738294\n",
      "experiment score: 0.6854298081805117\n"
     ]
    }
   ],
   "source": [
    "print(f'control score: {control_score}')\n",
    "print(f'experiment score: {exp_score}')"
   ]
  },
  {
   "cell_type": "code",
   "execution_count": 5,
   "metadata": {},
   "outputs": [
    {
     "data": {
      "text/plain": [
       "array([1, 2, 3, 4, 5, 6, 7], dtype=int32)"
      ]
     },
     "execution_count": 5,
     "metadata": {},
     "output_type": "execute_result"
    }
   ],
   "source": [
    "with open('./tmp/classes.obj', 'rb') as file:\n",
    "    data = pickle.load(file)\n",
    "data"
   ]
  }
 ],
 "metadata": {
  "kernelspec": {
   "display_name": "pash",
   "language": "python",
   "name": "python3"
  },
  "language_info": {
   "codemirror_mode": {
    "name": "ipython",
    "version": 3
   },
   "file_extension": ".py",
   "mimetype": "text/x-python",
   "name": "python",
   "nbconvert_exporter": "python",
   "pygments_lexer": "ipython3",
   "version": "3.10.9"
  },
  "orig_nbformat": 4,
  "vscode": {
   "interpreter": {
    "hash": "481310881e105a97763b2849a6a8f554503a1fb1dc65dafbdc99d72c0c28d041"
   }
  }
 },
 "nbformat": 4,
 "nbformat_minor": 2
}
