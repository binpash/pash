{
 "cells": [
  {
   "cell_type": "code",
   "execution_count": 1,
   "metadata": {},
   "outputs": [],
   "source": [
    "from sklearn.model_selection import train_test_split\n",
    "from sklearn import datasets\n",
    "from sklearn.linear_model import LogisticRegression\n",
    "import pickle\n",
    "import subprocess\n",
    "\n",
    "destination = 'result/trained_model.obj'\n",
    "data_source = 'cover'\n",
    "\n",
    "max_iter = 100\n",
    "\n",
    "if data_source == 'cover':\n",
    "    dataset = datasets.fetch_covtype()\n",
    "elif data_source == 'digit':\n",
    "    dataset = datasets.load_digits()\n",
    "else:\n",
    "    raise ValueError('data must be cover or digit')\n",
    "\n",
    "X_train, X_test, y_train, y_test = train_test_split(dataset.data, dataset.target, \n",
    "                                                    test_size=0.2, \n",
    "                                                    random_state=0)"
   ]
  },
  {
   "cell_type": "code",
   "execution_count": 13,
   "metadata": {},
   "outputs": [],
   "source": [
    "control_model = LogisticRegression(max_iter=max_iter, \n",
    "                                   solver='newton-cholesky', \n",
    "                                   multi_class='ovr')\n",
    "control_model.fit(X_train, y_train)\n",
    "control_score = control_model.score(X_test, y_test)"
   ]
  },
  {
   "cell_type": "code",
   "execution_count": 11,
   "metadata": {},
   "outputs": [
    {
     "name": "stdout",
     "output_type": "stream",
     "text": [
      "[09:08:46.040242] Destination: result/trained_model.obj\n",
      "[09:08:48.061960] Step 1 end\n",
      "[09:08:50.604565] Step 2 end\n",
      "[09:08:51.129647] rownorm\n",
      "[09:08:51.582313] reshape\n",
      "[09:08:52.059338] warm_start\n",
      "[09:09:27.495725] fold_coef\n",
      "[09:09:27.938160] zip_coef\n",
      "[09:09:28.420236] adjust_coef\n",
      "[09:09:28.420306] Step 3 end\n"
     ]
    }
   ],
   "source": [
    "subprocess.run([f\"sh fit.sh {destination} {data_source} {max_iter} | ts '[%H:%M:%.S]'\"], shell=True)\n",
    "with open(destination, 'rb') as file:\n",
    "    exp_model = pickle.load(file)\n",
    "exp_score = exp_model.score(X_test, y_test)"
   ]
  },
  {
   "cell_type": "code",
   "execution_count": 14,
   "metadata": {},
   "outputs": [
    {
     "name": "stdout",
     "output_type": "stream",
     "text": [
      "control score: 0.7154290336738294\n",
      "experiment score: 0.7154290336738294\n"
     ]
    }
   ],
   "source": [
    "print(f'control score: {control_score}')\n",
    "print(f'experiment score: {exp_score}')"
   ]
  }
 ],
 "metadata": {
  "kernelspec": {
   "display_name": "pash",
   "language": "python",
   "name": "python3"
  },
  "language_info": {
   "codemirror_mode": {
    "name": "ipython",
    "version": 3
   },
   "file_extension": ".py",
   "mimetype": "text/x-python",
   "name": "python",
   "nbconvert_exporter": "python",
   "pygments_lexer": "ipython3",
   "version": "3.10.9"
  },
  "orig_nbformat": 4,
  "vscode": {
   "interpreter": {
    "hash": "481310881e105a97763b2849a6a8f554503a1fb1dc65dafbdc99d72c0c28d041"
   }
  }
 },
 "nbformat": 4,
 "nbformat_minor": 2
}
