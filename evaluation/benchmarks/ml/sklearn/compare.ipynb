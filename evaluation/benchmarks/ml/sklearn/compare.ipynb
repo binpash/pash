{
 "cells": [
  {
   "cell_type": "code",
   "execution_count": 1,
   "metadata": {},
   "outputs": [],
   "source": [
    "from sklearn.model_selection import train_test_split\n",
    "from sklearn import datasets\n",
    "from sklearn.linear_model import LogisticRegression\n",
    "import pickle\n",
    "import subprocess\n",
    "\n",
    "destination = 'result/trained_model.obj'\n",
    "data_source = 'cover'\n",
    "max_iter = 1000\n",
    "# data_source = 'digit'\n",
    "\n",
    "digits = datasets.fetch_covtype()\n",
    "X_train, X_test, y_train, y_test = train_test_split(digits.data, digits.target, \n",
    "                                                    test_size=0.2, \n",
    "                                                    random_state=0)"
   ]
  },
  {
   "cell_type": "code",
   "execution_count": 2,
   "metadata": {},
   "outputs": [],
   "source": [
    "control_model = LogisticRegression(max_iter=max_iter)\n",
    "control_model.fit(X_train, y_train)\n",
    "control_score = control_model.score(X_test, y_test)"
   ]
  },
  {
   "cell_type": "code",
   "execution_count": null,
   "metadata": {},
   "outputs": [
    {
     "name": "stdout",
     "output_type": "stream",
     "text": [
      "[08:49:30.145981] Destination: result/trained_model.obj\n",
      "[08:49:31.810610] Step 1 end\n",
      "[08:49:34.109477] Step 2 end\n",
      "[08:49:34.582891] rownorm\n",
      "[08:49:34.993582] reshape\n",
      "[08:49:35.410281] warm_start\n"
     ]
    },
    {
     "name": "stderr",
     "output_type": "stream",
     "text": [
      "/home/castlehoney/anaconda3/envs/pash/lib/python3.10/site-packages/sklearn/linear_model/_logistic.py:458: ConvergenceWarning: lbfgs failed to converge (status=1):\n",
      "STOP: TOTAL NO. of ITERATIONS REACHED LIMIT.\n",
      "\n",
      "Increase the number of iterations (max_iter) or scale the data as shown in:\n",
      "    https://scikit-learn.org/stable/modules/preprocessing.html\n",
      "Please also refer to the documentation for alternative solver options:\n",
      "    https://scikit-learn.org/stable/modules/linear_model.html#logistic-regression\n",
      "  n_iter_i = _check_optimize_result(\n"
     ]
    },
    {
     "name": "stdout",
     "output_type": "stream",
     "text": [
      "[08:49:51.236760] fold_coef\n",
      "[08:49:51.685622] zip_coef\n",
      "[08:49:52.153337] adjust_coef\n",
      "[08:49:52.153407] Step 3 end\n"
     ]
    }
   ],
   "source": [
    "subprocess.run([f\"sh fit.sh {destination} {data_source} {max_iter} | ts '[%H:%M:%.S]'\"], shell=True)\n",
    "with open(destination, 'rb') as file:\n",
    "    exp_model = pickle.load(file)\n",
    "exp_score = exp_model.score(X_test, y_test)"
   ]
  },
  {
   "cell_type": "code",
   "execution_count": null,
   "metadata": {},
   "outputs": [
    {
     "name": "stdout",
     "output_type": "stream",
     "text": [
      "control score: 0.9583333333333334\n",
      "experiment score: 0.9583333333333334\n"
     ]
    }
   ],
   "source": [
    "print(f'control score: {control_score}')\n",
    "print(f'experiment score: {exp_score}')"
   ]
  }
 ],
 "metadata": {
  "kernelspec": {
   "display_name": "pash",
   "language": "python",
   "name": "python3"
  },
  "language_info": {
   "codemirror_mode": {
    "name": "ipython",
    "version": 3
   },
   "file_extension": ".py",
   "mimetype": "text/x-python",
   "name": "python",
   "nbconvert_exporter": "python",
   "pygments_lexer": "ipython3",
   "version": "3.10.9"
  },
  "orig_nbformat": 4,
  "vscode": {
   "interpreter": {
    "hash": "481310881e105a97763b2849a6a8f554503a1fb1dc65dafbdc99d72c0c28d041"
   }
  }
 },
 "nbformat": 4,
 "nbformat_minor": 2
}
