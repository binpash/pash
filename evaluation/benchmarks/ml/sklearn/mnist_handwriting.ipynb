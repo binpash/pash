{
 "cells": [
  {
   "cell_type": "code",
   "execution_count": 16,
   "metadata": {},
   "outputs": [],
   "source": [
    "from sklearn.model_selection import train_test_split\n",
    "from sklearn.datasets import load_digits\n",
    "from sklearn.linear_model import LogisticRegression\n",
    "import pickle\n",
    "import subprocess\n",
    "\n",
    "digits = load_digits()\n",
    "X_train, X_test, y_train, y_test = train_test_split(digits.data, digits.target, \n",
    "                                                    test_size=0.2, \n",
    "                                                    random_state=0)"
   ]
  },
  {
   "cell_type": "code",
   "execution_count": 17,
   "metadata": {},
   "outputs": [],
   "source": [
    "control_model = LogisticRegression(max_iter=10000)\n",
    "control_model.fit(X_train, y_train)\n",
    "control_score = control_model.score(X_test, y_test)"
   ]
  },
  {
   "cell_type": "code",
   "execution_count": 23,
   "metadata": {},
   "outputs": [
    {
     "name": "stdout",
     "output_type": "stream",
     "text": [
      "Destination: result/trained_model.obj\n"
     ]
    }
   ],
   "source": [
    "subprocess.run(['sh fit.sh result/trained_model.obj'], shell=True)\n",
    "with open('result/trained_model.obj', 'rb') as file:\n",
    "    exp_model = pickle.load(file)\n",
    "exp_score = exp_model.score(X_test, y_test)"
   ]
  },
  {
   "cell_type": "code",
   "execution_count": 24,
   "metadata": {},
   "outputs": [
    {
     "name": "stdout",
     "output_type": "stream",
     "text": [
      "control score: 0.9583333333333334\n",
      "experiment score: 0.9583333333333334\n"
     ]
    }
   ],
   "source": [
    "print(f'control score: {control_score}')\n",
    "print(f'experiment score: {exp_score}')"
   ]
  }
 ],
 "metadata": {
  "kernelspec": {
   "display_name": "pash",
   "language": "python",
   "name": "python3"
  },
  "language_info": {
   "codemirror_mode": {
    "name": "ipython",
    "version": 3
   },
   "file_extension": ".py",
   "mimetype": "text/x-python",
   "name": "python",
   "nbconvert_exporter": "python",
   "pygments_lexer": "ipython3",
   "version": "3.10.9"
  },
  "orig_nbformat": 4,
  "vscode": {
   "interpreter": {
    "hash": "481310881e105a97763b2849a6a8f554503a1fb1dc65dafbdc99d72c0c28d041"
   }
  }
 },
 "nbformat": 4,
 "nbformat_minor": 2
}
