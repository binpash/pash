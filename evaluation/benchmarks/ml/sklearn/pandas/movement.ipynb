{
 "cells": [
  {
   "cell_type": "code",
   "execution_count": 14,
   "metadata": {},
   "outputs": [
    {
     "data": {
      "text/plain": [
       "['datasets/S1_Dataset/data/d1p44M.csv',\n",
       " 'datasets/S1_Dataset/data/d1p39M.csv',\n",
       " 'datasets/S1_Dataset/data/d1p38M.csv',\n",
       " 'datasets/S1_Dataset/data/d1p27F.csv',\n",
       " 'datasets/S1_Dataset/data/d1p42M.csv',\n",
       " 'datasets/S1_Dataset/data/d1p25F.csv',\n",
       " 'datasets/S1_Dataset/data/d1p23F.csv',\n",
       " 'datasets/S1_Dataset/data/d1p16F.csv',\n",
       " 'datasets/S1_Dataset/data/d1p17F.csv',\n",
       " 'datasets/S1_Dataset/data/d1p57F.csv',\n",
       " 'datasets/S1_Dataset/data/d1p09F.csv',\n",
       " 'datasets/S1_Dataset/data/d1p22F.csv',\n",
       " 'datasets/S1_Dataset/data/d1p05M.csv',\n",
       " 'datasets/S1_Dataset/data/d1p60F.csv',\n",
       " 'datasets/S1_Dataset/data/d1p58F.csv',\n",
       " 'datasets/S1_Dataset/data/d1p53F.csv',\n",
       " 'datasets/S1_Dataset/data/d1p13F.csv',\n",
       " 'datasets/S1_Dataset/data/d1p02M.csv',\n",
       " 'datasets/S1_Dataset/data/d1p30F.csv',\n",
       " 'datasets/S1_Dataset/data/d1p52F.csv',\n",
       " 'datasets/S1_Dataset/data/d1p37M.csv',\n",
       " 'datasets/S1_Dataset/data/d1p26F.csv',\n",
       " 'datasets/S1_Dataset/data/d1p19F.csv',\n",
       " 'datasets/S1_Dataset/data/d1p15F.csv',\n",
       " 'datasets/S1_Dataset/data/d1p20F.csv',\n",
       " 'datasets/S1_Dataset/data/d1p31F.csv',\n",
       " 'datasets/S1_Dataset/data/d1p24F.csv',\n",
       " 'datasets/S1_Dataset/data/d1p41M.csv',\n",
       " 'datasets/S1_Dataset/data/d1p55F.csv',\n",
       " 'datasets/S1_Dataset/data/d1p50F.csv',\n",
       " 'datasets/S1_Dataset/data/d1p36M.csv',\n",
       " 'datasets/S1_Dataset/data/d1p12F.csv',\n",
       " 'datasets/S1_Dataset/data/d1p10F.csv',\n",
       " 'datasets/S1_Dataset/data/d1p32F.csv',\n",
       " 'datasets/S1_Dataset/data/d1p06M.csv',\n",
       " 'datasets/S1_Dataset/data/d1p04M.csv',\n",
       " 'datasets/S1_Dataset/data/d1p56F.csv',\n",
       " 'datasets/S1_Dataset/data/d1p48M.csv',\n",
       " 'datasets/S1_Dataset/data/d1p43M.csv',\n",
       " 'datasets/S1_Dataset/data/d1p14F.csv',\n",
       " 'datasets/S1_Dataset/data/d1p45M.csv',\n",
       " 'datasets/S1_Dataset/data/d1p01M.csv',\n",
       " 'datasets/S1_Dataset/data/d1p29F.csv',\n",
       " 'datasets/S1_Dataset/data/d1p47M.csv',\n",
       " 'datasets/S1_Dataset/data/d1p28F.csv',\n",
       " 'datasets/S1_Dataset/data/d1p07M.csv',\n",
       " 'datasets/S1_Dataset/data/d1p11F.csv',\n",
       " 'datasets/S1_Dataset/data/d1p59F.csv',\n",
       " 'datasets/S1_Dataset/data/d1p54F.csv',\n",
       " 'datasets/S1_Dataset/data/d1p08F.csv',\n",
       " 'datasets/S1_Dataset/data/d1p03M.csv',\n",
       " 'datasets/S1_Dataset/data/d1p18F.csv',\n",
       " 'datasets/S1_Dataset/data/d1p35F.csv',\n",
       " 'datasets/S1_Dataset/data/d1p21F.csv',\n",
       " 'datasets/S1_Dataset/data/d1p40M.csv',\n",
       " 'datasets/S1_Dataset/data/d1p49F.csv',\n",
       " 'datasets/S1_Dataset/data/d1p33F.csv',\n",
       " 'datasets/S1_Dataset/data/d1p46M.csv',\n",
       " 'datasets/S1_Dataset/data/d1p34F.csv',\n",
       " 'datasets/S1_Dataset/data/d1p51F.csv']"
      ]
     },
     "execution_count": 14,
     "metadata": {},
     "output_type": "execute_result"
    }
   ],
   "source": [
    "from sklearn.model_selection import train_test_split\n",
    "from sklearn.linear_model import LogisticRegression\n",
    "from sklearn import preprocessing\n",
    "import pickle\n",
    "import subprocess\n",
    "import pandas as pd\n",
    "import glob\n",
    "import os\n",
    "\n",
    "path = 'datasets/S1_Dataset/data'\n",
    "all_files = glob.glob(os.path.join(path, '*.csv'))\n",
    "df = pd.concat((pd.read_csv(f, header=None) for f in all_files), ignore_index=True)\n",
    "X_train, X_test, y_train, y_test = train_test_split(df.loc[:, :8], df[8], test_size=0.2)"
   ]
  },
  {
   "cell_type": "code",
   "execution_count": 18,
   "metadata": {},
   "outputs": [
    {
     "data": {
      "text/plain": [
       "0.999523673430504"
      ]
     },
     "execution_count": 18,
     "metadata": {},
     "output_type": "execute_result"
    }
   ],
   "source": [
    "model = LogisticRegression(max_iter=10000)\n",
    "model.fit(X_train, y_train)\n",
    "model.score(X_test, y_test)"
   ]
  },
  {
   "cell_type": "code",
   "execution_count": 21,
   "metadata": {},
   "outputs": [
    {
     "name": "stdout",
     "output_type": "stream",
     "text": [
      "[12:32:33.194744] Destination: result/movement_model.obj\n",
      "[12:32:34.357765] Step 1 end\n",
      "[12:32:36.877615] Step 2 end\n",
      "[12:32:37.480412] rownorm\n",
      "[12:32:37.930212] reshape\n",
      "[12:32:38.365796] warm_start\n"
     ]
    },
    {
     "name": "stderr",
     "output_type": "stream",
     "text": [
      "Traceback (most recent call last):\n",
      "  File \"/home/castlehoney/repos/research/pash/evaluation/benchmarks/ml/sklearn/scripts/fold_coef.py\", line 37, in <module>\n",
      "    fold_coefs_ = _logistic.Parallel(n_jobs=model.n_jobs, verbose=model.verbose, prefer=prefer)(\n",
      "  File \"/home/castlehoney/anaconda3/envs/pash/lib/python3.10/site-packages/joblib/parallel.py\", line 1048, in __call__\n",
      "    if self.dispatch_one_batch(iterator):\n",
      "  File \"/home/castlehoney/anaconda3/envs/pash/lib/python3.10/site-packages/joblib/parallel.py\", line 864, in dispatch_one_batch\n",
      "    self._dispatch(tasks)\n",
      "  File \"/home/castlehoney/anaconda3/envs/pash/lib/python3.10/site-packages/joblib/parallel.py\", line 782, in _dispatch\n",
      "    job = self._backend.apply_async(batch, callback=cb)\n",
      "  File \"/home/castlehoney/anaconda3/envs/pash/lib/python3.10/site-packages/joblib/_parallel_backends.py\", line 208, in apply_async\n",
      "    result = ImmediateResult(func)\n",
      "  File \"/home/castlehoney/anaconda3/envs/pash/lib/python3.10/site-packages/joblib/_parallel_backends.py\", line 572, in __init__\n",
      "    self.results = batch()\n",
      "  File \"/home/castlehoney/anaconda3/envs/pash/lib/python3.10/site-packages/joblib/parallel.py\", line 263, in __call__\n",
      "    return [func(*args, **kwargs)\n",
      "  File \"/home/castlehoney/anaconda3/envs/pash/lib/python3.10/site-packages/joblib/parallel.py\", line 263, in <listcomp>\n",
      "    return [func(*args, **kwargs)\n",
      "  File \"/home/castlehoney/anaconda3/envs/pash/lib/python3.10/site-packages/sklearn/utils/fixes.py\", line 117, in __call__\n",
      "    return self.function(*args, **kwargs)\n",
      "  File \"/home/castlehoney/anaconda3/envs/pash/lib/python3.10/site-packages/sklearn/linear_model/_logistic.py\", line 296, in _logistic_regression_path\n",
      "    sample_weight = _check_sample_weight(sample_weight, X, dtype=X.dtype, copy=True)\n",
      "  File \"/home/castlehoney/anaconda3/envs/pash/lib/python3.10/site-packages/pandas/core/generic.py\", line 5902, in __getattr__\n",
      "    return object.__getattribute__(self, name)\n",
      "AttributeError: 'DataFrame' object has no attribute 'dtype'. Did you mean: 'dtypes'?\n"
     ]
    },
    {
     "name": "stdout",
     "output_type": "stream",
     "text": [
      "[12:32:38.970192] fold_coef\n"
     ]
    },
    {
     "name": "stderr",
     "output_type": "stream",
     "text": [
      "Traceback (most recent call last):\n",
      "  File \"/home/castlehoney/repos/research/pash/evaluation/benchmarks/ml/sklearn/scripts/zip_coef.py\", line 10, in <module>\n",
      "    fold_coefs_, _, n_iter_ = zip(*fold_coefs_)\n",
      "ValueError: not enough values to unpack (expected 3, got 1)\n"
     ]
    },
    {
     "name": "stdout",
     "output_type": "stream",
     "text": [
      "[12:32:39.405599] zip_coef\n",
      "[12:32:40.002292] adjust_coef\n",
      "[12:32:40.002361] Step 3 end\n"
     ]
    },
    {
     "ename": "ValueError",
     "evalue": "matmul: Input operand 1 has a mismatch in its core dimension 0, with gufunc signature (n?,k),(k,m?)->(n?,m?) (size 64 is different from 9)",
     "output_type": "error",
     "traceback": [
      "\u001b[0;31m---------------------------------------------------------------------------\u001b[0m",
      "\u001b[0;31mValueError\u001b[0m                                Traceback (most recent call last)",
      "Cell \u001b[0;32mIn[21], line 4\u001b[0m\n\u001b[1;32m      2\u001b[0m \u001b[39mwith\u001b[39;00m \u001b[39mopen\u001b[39m(\u001b[39m'\u001b[39m\u001b[39mresult/trained_model.obj\u001b[39m\u001b[39m'\u001b[39m, \u001b[39m'\u001b[39m\u001b[39mrb\u001b[39m\u001b[39m'\u001b[39m) \u001b[39mas\u001b[39;00m file:\n\u001b[1;32m      3\u001b[0m     exp_model \u001b[39m=\u001b[39m pickle\u001b[39m.\u001b[39mload(file)\n\u001b[0;32m----> 4\u001b[0m exp_score \u001b[39m=\u001b[39m exp_model\u001b[39m.\u001b[39;49mscore(X_test, y_test)\n",
      "File \u001b[0;32m~/anaconda3/envs/pash/lib/python3.10/site-packages/sklearn/base.py:638\u001b[0m, in \u001b[0;36mClassifierMixin.score\u001b[0;34m(self, X, y, sample_weight)\u001b[0m\n\u001b[1;32m    613\u001b[0m \u001b[39m\"\"\"\u001b[39;00m\n\u001b[1;32m    614\u001b[0m \u001b[39mReturn the mean accuracy on the given test data and labels.\u001b[39;00m\n\u001b[1;32m    615\u001b[0m \n\u001b[0;32m   (...)\u001b[0m\n\u001b[1;32m    634\u001b[0m \u001b[39m    Mean accuracy of ``self.predict(X)`` wrt. `y`.\u001b[39;00m\n\u001b[1;32m    635\u001b[0m \u001b[39m\"\"\"\u001b[39;00m\n\u001b[1;32m    636\u001b[0m \u001b[39mfrom\u001b[39;00m \u001b[39m.\u001b[39;00m\u001b[39mmetrics\u001b[39;00m \u001b[39mimport\u001b[39;00m accuracy_score\n\u001b[0;32m--> 638\u001b[0m \u001b[39mreturn\u001b[39;00m accuracy_score(y, \u001b[39mself\u001b[39;49m\u001b[39m.\u001b[39;49mpredict(X), sample_weight\u001b[39m=\u001b[39msample_weight)\n",
      "File \u001b[0;32m~/anaconda3/envs/pash/lib/python3.10/site-packages/sklearn/linear_model/_base.py:420\u001b[0m, in \u001b[0;36mLinearClassifierMixin.predict\u001b[0;34m(self, X)\u001b[0m\n\u001b[1;32m    406\u001b[0m \u001b[39m\"\"\"\u001b[39;00m\n\u001b[1;32m    407\u001b[0m \u001b[39mPredict class labels for samples in X.\u001b[39;00m\n\u001b[1;32m    408\u001b[0m \n\u001b[0;32m   (...)\u001b[0m\n\u001b[1;32m    417\u001b[0m \u001b[39m    Vector containing the class labels for each sample.\u001b[39;00m\n\u001b[1;32m    418\u001b[0m \u001b[39m\"\"\"\u001b[39;00m\n\u001b[1;32m    419\u001b[0m xp, _ \u001b[39m=\u001b[39m get_namespace(X)\n\u001b[0;32m--> 420\u001b[0m scores \u001b[39m=\u001b[39m \u001b[39mself\u001b[39;49m\u001b[39m.\u001b[39;49mdecision_function(X)\n\u001b[1;32m    421\u001b[0m \u001b[39mif\u001b[39;00m \u001b[39mlen\u001b[39m(scores\u001b[39m.\u001b[39mshape) \u001b[39m==\u001b[39m \u001b[39m1\u001b[39m:\n\u001b[1;32m    422\u001b[0m     indices \u001b[39m=\u001b[39m xp\u001b[39m.\u001b[39mastype(scores \u001b[39m>\u001b[39m \u001b[39m0\u001b[39m, \u001b[39mint\u001b[39m)\n",
      "File \u001b[0;32m~/anaconda3/envs/pash/lib/python3.10/site-packages/sklearn/linear_model/_base.py:402\u001b[0m, in \u001b[0;36mLinearClassifierMixin.decision_function\u001b[0;34m(self, X)\u001b[0m\n\u001b[1;32m    399\u001b[0m xp, _ \u001b[39m=\u001b[39m get_namespace(X)\n\u001b[1;32m    401\u001b[0m X \u001b[39m=\u001b[39m \u001b[39mself\u001b[39m\u001b[39m.\u001b[39m_validate_data(X, accept_sparse\u001b[39m=\u001b[39m\u001b[39m\"\u001b[39m\u001b[39mcsr\u001b[39m\u001b[39m\"\u001b[39m, reset\u001b[39m=\u001b[39m\u001b[39mFalse\u001b[39;00m)\n\u001b[0;32m--> 402\u001b[0m scores \u001b[39m=\u001b[39m safe_sparse_dot(X, \u001b[39mself\u001b[39;49m\u001b[39m.\u001b[39;49mcoef_\u001b[39m.\u001b[39;49mT, dense_output\u001b[39m=\u001b[39;49m\u001b[39mTrue\u001b[39;49;00m) \u001b[39m+\u001b[39m \u001b[39mself\u001b[39m\u001b[39m.\u001b[39mintercept_\n\u001b[1;32m    403\u001b[0m \u001b[39mreturn\u001b[39;00m xp\u001b[39m.\u001b[39mreshape(scores, \u001b[39m-\u001b[39m\u001b[39m1\u001b[39m) \u001b[39mif\u001b[39;00m scores\u001b[39m.\u001b[39mshape[\u001b[39m1\u001b[39m] \u001b[39m==\u001b[39m \u001b[39m1\u001b[39m \u001b[39melse\u001b[39;00m scores\n",
      "File \u001b[0;32m~/anaconda3/envs/pash/lib/python3.10/site-packages/sklearn/utils/extmath.py:189\u001b[0m, in \u001b[0;36msafe_sparse_dot\u001b[0;34m(a, b, dense_output)\u001b[0m\n\u001b[1;32m    187\u001b[0m         ret \u001b[39m=\u001b[39m np\u001b[39m.\u001b[39mdot(a, b)\n\u001b[1;32m    188\u001b[0m \u001b[39melse\u001b[39;00m:\n\u001b[0;32m--> 189\u001b[0m     ret \u001b[39m=\u001b[39m a \u001b[39m@\u001b[39;49m b\n\u001b[1;32m    191\u001b[0m \u001b[39mif\u001b[39;00m (\n\u001b[1;32m    192\u001b[0m     sparse\u001b[39m.\u001b[39missparse(a)\n\u001b[1;32m    193\u001b[0m     \u001b[39mand\u001b[39;00m sparse\u001b[39m.\u001b[39missparse(b)\n\u001b[1;32m    194\u001b[0m     \u001b[39mand\u001b[39;00m dense_output\n\u001b[1;32m    195\u001b[0m     \u001b[39mand\u001b[39;00m \u001b[39mhasattr\u001b[39m(ret, \u001b[39m\"\u001b[39m\u001b[39mtoarray\u001b[39m\u001b[39m\"\u001b[39m)\n\u001b[1;32m    196\u001b[0m ):\n\u001b[1;32m    197\u001b[0m     \u001b[39mreturn\u001b[39;00m ret\u001b[39m.\u001b[39mtoarray()\n",
      "\u001b[0;31mValueError\u001b[0m: matmul: Input operand 1 has a mismatch in its core dimension 0, with gufunc signature (n?,k),(k,m?)->(n?,m?) (size 64 is different from 9)"
     ]
    }
   ],
   "source": [
    "subprocess.run([\"sh fit.sh result/movement_model.obj movement| ts '[%H:%M:%.S]'\"], shell=True)\n",
    "with open('result/trained_model.obj', 'rb') as file:\n",
    "    exp_model = pickle.load(file)\n",
    "exp_score = exp_model.score(X_test, y_test)"
   ]
  }
 ],
 "metadata": {
  "kernelspec": {
   "display_name": "pash",
   "language": "python",
   "name": "python3"
  },
  "language_info": {
   "codemirror_mode": {
    "name": "ipython",
    "version": 3
   },
   "file_extension": ".py",
   "mimetype": "text/x-python",
   "name": "python",
   "nbconvert_exporter": "python",
   "pygments_lexer": "ipython3",
   "version": "3.10.9"
  },
  "orig_nbformat": 4,
  "vscode": {
   "interpreter": {
    "hash": "481310881e105a97763b2849a6a8f554503a1fb1dc65dafbdc99d72c0c28d041"
   }
  }
 },
 "nbformat": 4,
 "nbformat_minor": 2
}
